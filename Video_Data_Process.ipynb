{
 "cells": [
  {
   "cell_type": "code",
   "execution_count": 46,
   "metadata": {},
   "outputs": [],
   "source": [
    "#importing necessary libraries\n",
    "import moviepy.editor\n",
    "import tkinter.filedialog\n",
    "from pydub import AudioSegment\n",
    "import os\n",
    "import speech_recognition as sp\n",
    "import spacy"
   ]
  },
  {
   "cell_type": "code",
   "execution_count": 78,
   "metadata": {},
   "outputs": [],
   "source": [
    "class Extractions:\n",
    "    def extraction(self,text: str):\n",
    "        spa = spacy.load('en_core_web_sm')\n",
    "        doc = spa(text.strip())\n",
    "        namedEntity = moneyEntity = organizationEntity = locationEntity = set()\n",
    "        for i in doc.ents:\n",
    "            entry = str(i.lemma_).lower()\n",
    "            text = text.replace(str(i).lower(),\" \")\n",
    "            if i.label in [\"MONEY\"]:\n",
    "                moneyEntity.add(entry)\n",
    "            elif i.label in [\"ORG\"]:\n",
    "                organizationEntity.add(entry)\n",
    "            elif i.label_ in [\"GPE\", \"GEO\"]:\n",
    "                locationEntity.add(entry)\n",
    "            elif i.label_ in [\"ART\", \"EVE\", \"NAT\", \"PERSON\"]:\n",
    "                namedEntity.add(entry.title())\n",
    "        print(\"named entities \",namedEntity)\n",
    "        print(f\"money entities - {moneyEntity}\")\n",
    "        print(f\"location entities - {locationEntity}\")\n",
    "        print(f\"organization entities - {organizationEntity}\")\n",
    "          "
   ]
  },
  {
   "cell_type": "markdown",
   "metadata": {},
   "source": [
    "# Separating video and audio, from WION \n"
   ]
  },
  {
   "cell_type": "markdown",
   "metadata": {},
   "source": [
    " 1 - Reading the video file from the directory. \n",
    " 2 - Extracting audio file from the videofile.\n",
    " 3 - Writing the extracted audio file in the directory.\n"
   ]
  },
  {
   "cell_type": "code",
   "execution_count": 18,
   "metadata": {},
   "outputs": [
    {
     "name": "stderr",
     "output_type": "stream",
     "text": [
      "\r",
      "chunk:   0%|                                                                        | 0/3529 [00:00<?, ?it/s, now=None]"
     ]
    },
    {
     "name": "stdout",
     "output_type": "stream",
     "text": [
      "MoviePy - Writing audio in Extracted_audio.wav\n"
     ]
    },
    {
     "name": "stderr",
     "output_type": "stream",
     "text": [
      "                                                                                                                       "
     ]
    },
    {
     "name": "stdout",
     "output_type": "stream",
     "text": [
      "MoviePy - Done.\n"
     ]
    },
    {
     "name": "stderr",
     "output_type": "stream",
     "text": [
      "\r"
     ]
    }
   ],
   "source": [
    "videoSrc = \"Wion.mp4\"\n",
    "audio_store = 'Extracted_audio.wav'\n",
    "video = moviepy.editor.VideoFileClip(videoSrc)\n",
    "audio = video.audio\n",
    "audio.write_audiofile(audio_store)"
   ]
  },
  {
   "cell_type": "markdown",
   "metadata": {},
   "source": [
    "# Convert audio speech into text "
   ]
  },
  {
   "cell_type": "markdown",
   "metadata": {},
   "source": [
    "1 - Recognizing and converting audio to text using google speech recognition.\n",
    "2 - writing extracted text into text file."
   ]
  },
  {
   "cell_type": "code",
   "execution_count": 48,
   "metadata": {},
   "outputs": [],
   "source": [
    "speech  = sp.Recognizer()\n"
   ]
  },
  {
   "cell_type": "code",
   "execution_count": 73,
   "metadata": {},
   "outputs": [
    {
     "name": "stdout",
     "output_type": "stream",
     "text": [
      "chatting news 29 states US President Joe Biden has ordered intelligence officials to read the book that I was to investigate the Origins of the covid-19 pandemic administration is working to build pressure on China to be more open about the covid-19 outbreak us intelligence agencies in 90 days to get back to bite with all the details National laboratory save interacted with this with the investigation intelligence officials will prepare a list of the Chinese government is also called on China to co-operate with the probe so far there have been through theories run the origin of covid-19 scientist LinkedIn first theory to wet market in wuhan it was believed it was passed from human was passed to humans from animals and according to the other theory there is much more about three former US President Donald Trump said that he has very little doubt that covid-19 came from 11 to haan White House Deputy Press Secretary said that it was informed by the assessment of intelligence agencies month ago she also said that the administration has not ruled out any theory even the one that has the virus was deliberately engineered to become a bioweapon\n"
     ]
    }
   ],
   "source": [
    "with sp.AudioFile('Extracted_audio.wav') as source:\n",
    "    audio = speech.listen(source)\n",
    "    try:\n",
    "        text = speech.recognize_google(audio)\n",
    "        print(text)\n",
    "    except:\n",
    "        print('invalid!')"
   ]
  },
  {
   "cell_type": "code",
   "execution_count": 74,
   "metadata": {},
   "outputs": [],
   "source": [
    "Txt_file = open(r'Text_output.txt','w+')\n",
    "opstring = text\n",
    "Txt_file.write(opstring)\n",
    "Txt_file.close()"
   ]
  },
  {
   "cell_type": "code",
   "execution_count": 66,
   "metadata": {},
   "outputs": [],
   "source": []
  },
  {
   "cell_type": "markdown",
   "metadata": {},
   "source": [
    "# Fetch entities from text."
   ]
  },
  {
   "cell_type": "code",
   "execution_count": 79,
   "metadata": {},
   "outputs": [
    {
     "name": "stdout",
     "output_type": "stream",
     "text": [
      "named entities  {'Covid-19', 'us', 'china', 'Joe Biden', 'Donald Trump'}\n",
      "money entities - {'Covid-19', 'us', 'china', 'Joe Biden', 'Donald Trump'}\n",
      "location entities - {'Covid-19', 'us', 'china', 'Joe Biden', 'Donald Trump'}\n",
      "organization entities - {'Covid-19', 'us', 'china', 'Joe Biden', 'Donald Trump'}\n"
     ]
    }
   ],
   "source": [
    "ext = Extractions()\n",
    "ext.extraction(text)\n"
   ]
  },
  {
   "cell_type": "code",
   "execution_count": null,
   "metadata": {},
   "outputs": [],
   "source": []
  }
 ],
 "metadata": {
  "kernelspec": {
   "display_name": "Python 3",
   "language": "python",
   "name": "python3"
  },
  "language_info": {
   "codemirror_mode": {
    "name": "ipython",
    "version": 3
   },
   "file_extension": ".py",
   "mimetype": "text/x-python",
   "name": "python",
   "nbconvert_exporter": "python",
   "pygments_lexer": "ipython3",
   "version": "3.8.5"
  }
 },
 "nbformat": 4,
 "nbformat_minor": 4
}
